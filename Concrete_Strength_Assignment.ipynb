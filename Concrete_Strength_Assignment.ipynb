{
  "nbformat": 4,
  "nbformat_minor": 0,
  "metadata": {
    "kernelspec": {
      "display_name": "Python 3",
      "language": "python",
      "name": "python3"
    },
    "language_info": {
      "codemirror_mode": {
        "name": "ipython",
        "version": 3
      },
      "file_extension": ".py",
      "mimetype": "text/x-python",
      "name": "python",
      "nbconvert_exporter": "python",
      "pygments_lexer": "ipython3",
      "version": "3.7.6"
    },
    "colab": {
      "name": "Concrete Strength Assignment.ipynb",
      "provenance": [],
      "collapsed_sections": [],
      "include_colab_link": true
    }
  },
  "cells": [
    {
      "cell_type": "markdown",
      "metadata": {
        "id": "view-in-github",
        "colab_type": "text"
      },
      "source": [
        "<a href=\"https://colab.research.google.com/github/zainali60/deep-learning-assignmnet/blob/main/Concrete_Strength_Assignment.ipynb\" target=\"_parent\"><img src=\"https://colab.research.google.com/assets/colab-badge.svg\" alt=\"Open In Colab\"/></a>"
      ]
    },
    {
      "cell_type": "markdown",
      "metadata": {
        "id": "nnlyIQflOZJG"
      },
      "source": [
        "# Assignment: Compresive Strength Concrete Problem\n",
        "\n",
        "\n",
        "### Abstract: \n",
        "\n",
        "Concrete is the most important material in civil engineering. The concrete compressive strength (concrete strength to bear the load) is a highly nonlinear function of age and ingredients.  <br><br>\n",
        "\n",
        "<table border=\"1\"  cellpadding=\"6\" bordercolor=\"red\">\n",
        "\t<tbody>\n",
        "        <tr>\n",
        "\t\t<td bgcolor=\"#DDEEFF\"><p class=\"normal\"><b>Data Set Characteristics:&nbsp;&nbsp;</b></p></td>\n",
        "\t\t<td><p class=\"normal\">Multivariate</p></td>\n",
        "\t\t<td bgcolor=\"#DDEEFF\"><p class=\"normal\"><b>Number of Instances:</b></p></td>\n",
        "\t\t<td><p class=\"normal\">1030</p></td>\n",
        "\t\t<td bgcolor=\"#DDEEFF\"><p class=\"normal\"><b>Area:</b></p></td>\n",
        "\t\t<td><p class=\"normal\">Physical</p></td>\n",
        "        </tr>\n",
        "     </tbody>\n",
        "    </table>\n",
        "<table border=\"1\" cellpadding=\"6\">\n",
        "    <tbody>\n",
        "        <tr>\n",
        "            <td bgcolor=\"#DDEEFF\"><p class=\"normal\"><b>Attribute Characteristics:</b></p></td>\n",
        "            <td><p class=\"normal\">Real</p></td>\n",
        "            <td bgcolor=\"#DDEEFF\"><p class=\"normal\"><b>Number of Attributes:</b></p></td>\n",
        "            <td><p class=\"normal\">9</p></td>\n",
        "            <td bgcolor=\"#DDEEFF\"><p class=\"normal\"><b>Date Donated</b></p></td>\n",
        "            <td><p class=\"normal\">2007-08-03</p></td>\n",
        "        </tr>\n",
        "     </tbody>\n",
        "    </table>\n",
        "<table border=\"1\" cellpadding=\"6\">\t\n",
        "    <tbody>\n",
        "    <tr>\n",
        "\t\t<td bgcolor=\"#DDEEFF\"><p class=\"normal\"><b>Associated Tasks:</b></p></td>\n",
        "\t\t<td><p class=\"normal\">Regression</p></td>\n",
        "\t\t<td bgcolor=\"#DDEEFF\"><p class=\"normal\"><b>Missing Values?</b></p></td>\n",
        "\t\t<td><p class=\"normal\">N/A</p></td>\n",
        "\t\t<td bgcolor=\"#DDEEFF\"><p class=\"normal\"><b>Number of Web Hits:</b></p></td>\n",
        "\t\t<td><p class=\"normal\">231464</p></td>\n",
        "\t</tr>\n",
        "    </tbody>\n",
        "    </table>"
      ]
    },
    {
      "cell_type": "markdown",
      "metadata": {
        "id": "wDVdvMBAOZJL"
      },
      "source": [
        "###  Description:\n",
        "| Features Name | Data Type | Measurement | Description |\n",
        "| -- | -- | -- | -- |\n",
        "Cement (component 1) | quantitative | kg in a m3 mixture | Input Variable\n",
        "Blast Furnace Slag (component 2) | quantitative | kg in a m3 mixture | Input Variable\n",
        "Fly Ash (component 3) | quantitative | kg in a m3 mixture | Input Variable\n",
        "Water (component 4) | quantitative | kg in a m3 mixture | Input Variable\n",
        "Superplasticizer (component 5) | quantitative | kg in a m3 mixture | Input Variable\n",
        "Coarse Aggregate (component 6) | quantitative | kg in a m3 mixture | Input Variable\n",
        "Fine Aggregate (component 7) | quantitative | kg in a m3 mixture | Input Variable\n",
        "Age | quantitative | Day (1~365) | Input Variable\n",
        "Concrete compressive strength | quantitative | MPa | Output Variable\n",
        "\n",
        "### WORKFLOW :\n",
        "- Load Data\n",
        "- Check Missing Values ( If Exist ; Fill each record with mean of its feature )\n",
        "- Standardized the Input Variables. **Hint**: Centeralized the data\n",
        "- Split into 50% Training(Samples,Labels) , 30% Test(Samples,Labels) and 20% Validation Data(Samples,Labels).\n",
        "- Model : input Layer (No. of features ), 3 hidden layers including 10,8,6 unit & Output Layer with activation function relu/tanh (check by experiment).\n",
        "- Compilation Step (Note : Its a Regression problem , select loss , metrics according to it)\n",
        "- Train the Model with Epochs (100) and validate it\n",
        "- If the model gets overfit tune your model by changing the units , No. of layers , activation function , epochs , add dropout layer or add Regularizer according to the need .\n",
        "- Evaluation Step\n",
        "- Prediction\n"
      ]
    },
    {
      "cell_type": "markdown",
      "metadata": {
        "id": "8_lYngD2OZJN"
      },
      "source": [
        "# Load Data:\n",
        "[Click Here to Download DataSet](https://github.com/ramsha275/ML_Datasets/blob/main/compresive_strength_concrete.csv)"
      ]
    },
    {
      "cell_type": "markdown",
      "metadata": {
        "id": "vA_-GQhhO_0_"
      },
      "source": [
        "**Import Libraries**"
      ]
    },
    {
      "cell_type": "code",
      "metadata": {
        "id": "FgrSF5j_OZJO"
      },
      "source": [
        "import tensorflow as tf\n",
        "import numpy as np\n",
        "import pandas as pd\n",
        "from tensorflow.keras import models, layers , optimizers"
      ],
      "execution_count": null,
      "outputs": []
    },
    {
      "cell_type": "markdown",
      "metadata": {
        "id": "jAbM8JlgPXgX"
      },
      "source": [
        "**Mount the drive**"
      ]
    },
    {
      "cell_type": "code",
      "metadata": {
        "colab": {
          "base_uri": "https://localhost:8080/"
        },
        "id": "thBGRKLPPHZY",
        "outputId": "2606aa94-7e81-4e25-9489-b51c5511f987"
      },
      "source": [
        "from google.colab import drive\n",
        "drive.mount(\"/content/gdrive\")"
      ],
      "execution_count": null,
      "outputs": [
        {
          "output_type": "stream",
          "text": [
            "Drive already mounted at /content/gdrive; to attempt to forcibly remount, call drive.mount(\"/content/gdrive\", force_remount=True).\n"
          ],
          "name": "stdout"
        }
      ]
    },
    {
      "cell_type": "markdown",
      "metadata": {
        "id": "ASJ-l6SmPf5R"
      },
      "source": [
        "**Load the data**"
      ]
    },
    {
      "cell_type": "code",
      "metadata": {
        "id": "H43i_gBFPe02"
      },
      "source": [
        "df= pd.read_csv(\"/content/gdrive/MyDrive/compresive_strength_concrete.csv\")"
      ],
      "execution_count": null,
      "outputs": []
    },
    {
      "cell_type": "code",
      "metadata": {
        "colab": {
          "base_uri": "https://localhost:8080/",
          "height": 255
        },
        "id": "oH6RIxSbQy3d",
        "outputId": "318e78bc-7f6b-46e1-ef9e-e6beeb2024c2"
      },
      "source": [
        "# show first 5rows\n",
        "df.head()"
      ],
      "execution_count": null,
      "outputs": [
        {
          "output_type": "execute_result",
          "data": {
            "text/html": [
              "<div>\n",
              "<style scoped>\n",
              "    .dataframe tbody tr th:only-of-type {\n",
              "        vertical-align: middle;\n",
              "    }\n",
              "\n",
              "    .dataframe tbody tr th {\n",
              "        vertical-align: top;\n",
              "    }\n",
              "\n",
              "    .dataframe thead th {\n",
              "        text-align: right;\n",
              "    }\n",
              "</style>\n",
              "<table border=\"1\" class=\"dataframe\">\n",
              "  <thead>\n",
              "    <tr style=\"text-align: right;\">\n",
              "      <th></th>\n",
              "      <th>Cement (component 1)(kg in a m^3 mixture)</th>\n",
              "      <th>Blast Furnace Slag (component 2)(kg in a m^3 mixture)</th>\n",
              "      <th>Fly Ash (component 3)(kg in a m^3 mixture)</th>\n",
              "      <th>Water  (component 4)(kg in a m^3 mixture)</th>\n",
              "      <th>Superplasticizer (component 5)(kg in a m^3 mixture)</th>\n",
              "      <th>Coarse Aggregate  (component 6)(kg in a m^3 mixture)</th>\n",
              "      <th>Fine Aggregate (component 7)(kg in a m^3 mixture)</th>\n",
              "      <th>Age (day)</th>\n",
              "      <th>Concrete compressive strength(MPa, megapascals)</th>\n",
              "    </tr>\n",
              "  </thead>\n",
              "  <tbody>\n",
              "    <tr>\n",
              "      <th>0</th>\n",
              "      <td>540.0</td>\n",
              "      <td>0.0</td>\n",
              "      <td>0.0</td>\n",
              "      <td>162.0</td>\n",
              "      <td>2.5</td>\n",
              "      <td>1040.0</td>\n",
              "      <td>676.0</td>\n",
              "      <td>28</td>\n",
              "      <td>79.99</td>\n",
              "    </tr>\n",
              "    <tr>\n",
              "      <th>1</th>\n",
              "      <td>540.0</td>\n",
              "      <td>0.0</td>\n",
              "      <td>0.0</td>\n",
              "      <td>162.0</td>\n",
              "      <td>2.5</td>\n",
              "      <td>1055.0</td>\n",
              "      <td>676.0</td>\n",
              "      <td>28</td>\n",
              "      <td>61.89</td>\n",
              "    </tr>\n",
              "    <tr>\n",
              "      <th>2</th>\n",
              "      <td>332.5</td>\n",
              "      <td>142.5</td>\n",
              "      <td>0.0</td>\n",
              "      <td>228.0</td>\n",
              "      <td>0.0</td>\n",
              "      <td>932.0</td>\n",
              "      <td>594.0</td>\n",
              "      <td>270</td>\n",
              "      <td>40.27</td>\n",
              "    </tr>\n",
              "    <tr>\n",
              "      <th>3</th>\n",
              "      <td>332.5</td>\n",
              "      <td>142.5</td>\n",
              "      <td>0.0</td>\n",
              "      <td>228.0</td>\n",
              "      <td>0.0</td>\n",
              "      <td>932.0</td>\n",
              "      <td>594.0</td>\n",
              "      <td>365</td>\n",
              "      <td>41.05</td>\n",
              "    </tr>\n",
              "    <tr>\n",
              "      <th>4</th>\n",
              "      <td>198.6</td>\n",
              "      <td>132.4</td>\n",
              "      <td>0.0</td>\n",
              "      <td>192.0</td>\n",
              "      <td>0.0</td>\n",
              "      <td>978.4</td>\n",
              "      <td>825.5</td>\n",
              "      <td>360</td>\n",
              "      <td>44.30</td>\n",
              "    </tr>\n",
              "  </tbody>\n",
              "</table>\n",
              "</div>"
            ],
            "text/plain": [
              "   Cement (component 1)(kg in a m^3 mixture)  ...  Concrete compressive strength(MPa, megapascals) \n",
              "0                                      540.0  ...                                             79.99\n",
              "1                                      540.0  ...                                             61.89\n",
              "2                                      332.5  ...                                             40.27\n",
              "3                                      332.5  ...                                             41.05\n",
              "4                                      198.6  ...                                             44.30\n",
              "\n",
              "[5 rows x 9 columns]"
            ]
          },
          "metadata": {
            "tags": []
          },
          "execution_count": 4
        }
      ]
    },
    {
      "cell_type": "code",
      "metadata": {
        "id": "QqJcuJq9GTVj",
        "colab": {
          "base_uri": "https://localhost:8080/"
        },
        "outputId": "a3f2bb38-a7e8-4597-cb3b-483835b40813"
      },
      "source": [
        "# shape of DataFrame\n",
        "df.shape"
      ],
      "execution_count": null,
      "outputs": [
        {
          "output_type": "execute_result",
          "data": {
            "text/plain": [
              "(1030, 9)"
            ]
          },
          "metadata": {
            "tags": []
          },
          "execution_count": 5
        }
      ]
    },
    {
      "cell_type": "markdown",
      "metadata": {
        "id": "90pRxdmoP9yR"
      },
      "source": [
        "**Check the missing values**"
      ]
    },
    {
      "cell_type": "code",
      "metadata": {
        "colab": {
          "base_uri": "https://localhost:8080/"
        },
        "id": "q8S-QLsBR4Bd",
        "outputId": "e8cee426-713d-43ba-c170-1a0dbf1f4f2a"
      },
      "source": [
        "df.isnull().sum()"
      ],
      "execution_count": null,
      "outputs": [
        {
          "output_type": "execute_result",
          "data": {
            "text/plain": [
              "Cement (component 1)(kg in a m^3 mixture)                0\n",
              "Blast Furnace Slag (component 2)(kg in a m^3 mixture)    0\n",
              "Fly Ash (component 3)(kg in a m^3 mixture)               0\n",
              "Water  (component 4)(kg in a m^3 mixture)                0\n",
              "Superplasticizer (component 5)(kg in a m^3 mixture)      0\n",
              "Coarse Aggregate  (component 6)(kg in a m^3 mixture)     0\n",
              "Fine Aggregate (component 7)(kg in a m^3 mixture)        0\n",
              "Age (day)                                                0\n",
              "Concrete compressive strength(MPa, megapascals)          0\n",
              "dtype: int64"
            ]
          },
          "metadata": {
            "tags": []
          },
          "execution_count": 6
        }
      ]
    },
    {
      "cell_type": "code",
      "metadata": {
        "colab": {
          "base_uri": "https://localhost:8080/"
        },
        "id": "NHZ4H5GPSUz8",
        "outputId": "f4ab6103-85bf-4a03-eca5-ce4f51bd85cf"
      },
      "source": [
        "df.info()"
      ],
      "execution_count": null,
      "outputs": [
        {
          "output_type": "stream",
          "text": [
            "<class 'pandas.core.frame.DataFrame'>\n",
            "RangeIndex: 1030 entries, 0 to 1029\n",
            "Data columns (total 9 columns):\n",
            " #   Column                                                 Non-Null Count  Dtype  \n",
            "---  ------                                                 --------------  -----  \n",
            " 0   Cement (component 1)(kg in a m^3 mixture)              1030 non-null   float64\n",
            " 1   Blast Furnace Slag (component 2)(kg in a m^3 mixture)  1030 non-null   float64\n",
            " 2   Fly Ash (component 3)(kg in a m^3 mixture)             1030 non-null   float64\n",
            " 3   Water  (component 4)(kg in a m^3 mixture)              1030 non-null   float64\n",
            " 4   Superplasticizer (component 5)(kg in a m^3 mixture)    1030 non-null   float64\n",
            " 5   Coarse Aggregate  (component 6)(kg in a m^3 mixture)   1030 non-null   float64\n",
            " 6   Fine Aggregate (component 7)(kg in a m^3 mixture)      1030 non-null   float64\n",
            " 7   Age (day)                                              1030 non-null   int64  \n",
            " 8   Concrete compressive strength(MPa, megapascals)        1030 non-null   float64\n",
            "dtypes: float64(8), int64(1)\n",
            "memory usage: 72.5 KB\n"
          ],
          "name": "stdout"
        }
      ]
    },
    {
      "cell_type": "code",
      "metadata": {
        "colab": {
          "base_uri": "https://localhost:8080/",
          "height": 348
        },
        "id": "NAoNRjCbSKxZ",
        "outputId": "9b50ca5b-0110-4ca7-9eef-115f97df08bf"
      },
      "source": [
        "# statistiacal decription of data\n",
        "df.describe()"
      ],
      "execution_count": null,
      "outputs": [
        {
          "output_type": "execute_result",
          "data": {
            "text/html": [
              "<div>\n",
              "<style scoped>\n",
              "    .dataframe tbody tr th:only-of-type {\n",
              "        vertical-align: middle;\n",
              "    }\n",
              "\n",
              "    .dataframe tbody tr th {\n",
              "        vertical-align: top;\n",
              "    }\n",
              "\n",
              "    .dataframe thead th {\n",
              "        text-align: right;\n",
              "    }\n",
              "</style>\n",
              "<table border=\"1\" class=\"dataframe\">\n",
              "  <thead>\n",
              "    <tr style=\"text-align: right;\">\n",
              "      <th></th>\n",
              "      <th>Cement (component 1)(kg in a m^3 mixture)</th>\n",
              "      <th>Blast Furnace Slag (component 2)(kg in a m^3 mixture)</th>\n",
              "      <th>Fly Ash (component 3)(kg in a m^3 mixture)</th>\n",
              "      <th>Water  (component 4)(kg in a m^3 mixture)</th>\n",
              "      <th>Superplasticizer (component 5)(kg in a m^3 mixture)</th>\n",
              "      <th>Coarse Aggregate  (component 6)(kg in a m^3 mixture)</th>\n",
              "      <th>Fine Aggregate (component 7)(kg in a m^3 mixture)</th>\n",
              "      <th>Age (day)</th>\n",
              "      <th>Concrete compressive strength(MPa, megapascals)</th>\n",
              "    </tr>\n",
              "  </thead>\n",
              "  <tbody>\n",
              "    <tr>\n",
              "      <th>count</th>\n",
              "      <td>1030.000000</td>\n",
              "      <td>1030.000000</td>\n",
              "      <td>1030.000000</td>\n",
              "      <td>1030.000000</td>\n",
              "      <td>1030.000000</td>\n",
              "      <td>1030.000000</td>\n",
              "      <td>1030.000000</td>\n",
              "      <td>1030.000000</td>\n",
              "      <td>1030.000000</td>\n",
              "    </tr>\n",
              "    <tr>\n",
              "      <th>mean</th>\n",
              "      <td>281.167864</td>\n",
              "      <td>73.895825</td>\n",
              "      <td>54.188350</td>\n",
              "      <td>181.567282</td>\n",
              "      <td>6.204660</td>\n",
              "      <td>972.918932</td>\n",
              "      <td>773.580485</td>\n",
              "      <td>45.662136</td>\n",
              "      <td>35.817961</td>\n",
              "    </tr>\n",
              "    <tr>\n",
              "      <th>std</th>\n",
              "      <td>104.506364</td>\n",
              "      <td>86.279342</td>\n",
              "      <td>63.997004</td>\n",
              "      <td>21.354219</td>\n",
              "      <td>5.973841</td>\n",
              "      <td>77.753954</td>\n",
              "      <td>80.175980</td>\n",
              "      <td>63.169912</td>\n",
              "      <td>16.705742</td>\n",
              "    </tr>\n",
              "    <tr>\n",
              "      <th>min</th>\n",
              "      <td>102.000000</td>\n",
              "      <td>0.000000</td>\n",
              "      <td>0.000000</td>\n",
              "      <td>121.800000</td>\n",
              "      <td>0.000000</td>\n",
              "      <td>801.000000</td>\n",
              "      <td>594.000000</td>\n",
              "      <td>1.000000</td>\n",
              "      <td>2.330000</td>\n",
              "    </tr>\n",
              "    <tr>\n",
              "      <th>25%</th>\n",
              "      <td>192.375000</td>\n",
              "      <td>0.000000</td>\n",
              "      <td>0.000000</td>\n",
              "      <td>164.900000</td>\n",
              "      <td>0.000000</td>\n",
              "      <td>932.000000</td>\n",
              "      <td>730.950000</td>\n",
              "      <td>7.000000</td>\n",
              "      <td>23.710000</td>\n",
              "    </tr>\n",
              "    <tr>\n",
              "      <th>50%</th>\n",
              "      <td>272.900000</td>\n",
              "      <td>22.000000</td>\n",
              "      <td>0.000000</td>\n",
              "      <td>185.000000</td>\n",
              "      <td>6.400000</td>\n",
              "      <td>968.000000</td>\n",
              "      <td>779.500000</td>\n",
              "      <td>28.000000</td>\n",
              "      <td>34.445000</td>\n",
              "    </tr>\n",
              "    <tr>\n",
              "      <th>75%</th>\n",
              "      <td>350.000000</td>\n",
              "      <td>142.950000</td>\n",
              "      <td>118.300000</td>\n",
              "      <td>192.000000</td>\n",
              "      <td>10.200000</td>\n",
              "      <td>1029.400000</td>\n",
              "      <td>824.000000</td>\n",
              "      <td>56.000000</td>\n",
              "      <td>46.135000</td>\n",
              "    </tr>\n",
              "    <tr>\n",
              "      <th>max</th>\n",
              "      <td>540.000000</td>\n",
              "      <td>359.400000</td>\n",
              "      <td>200.100000</td>\n",
              "      <td>247.000000</td>\n",
              "      <td>32.200000</td>\n",
              "      <td>1145.000000</td>\n",
              "      <td>992.600000</td>\n",
              "      <td>365.000000</td>\n",
              "      <td>82.600000</td>\n",
              "    </tr>\n",
              "  </tbody>\n",
              "</table>\n",
              "</div>"
            ],
            "text/plain": [
              "       Cement (component 1)(kg in a m^3 mixture)  ...  Concrete compressive strength(MPa, megapascals) \n",
              "count                                1030.000000  ...                                       1030.000000\n",
              "mean                                  281.167864  ...                                         35.817961\n",
              "std                                   104.506364  ...                                         16.705742\n",
              "min                                   102.000000  ...                                          2.330000\n",
              "25%                                   192.375000  ...                                         23.710000\n",
              "50%                                   272.900000  ...                                         34.445000\n",
              "75%                                   350.000000  ...                                         46.135000\n",
              "max                                   540.000000  ...                                         82.600000\n",
              "\n",
              "[8 rows x 9 columns]"
            ]
          },
          "metadata": {
            "tags": []
          },
          "execution_count": 8
        }
      ]
    },
    {
      "cell_type": "code",
      "metadata": {
        "colab": {
          "base_uri": "https://localhost:8080/"
        },
        "id": "1BOyIHonVu9W",
        "outputId": "859d9f46-6e45-48b6-e273-9cf909cc2937"
      },
      "source": [
        "# to gets columns name\n",
        "df.keys()"
      ],
      "execution_count": null,
      "outputs": [
        {
          "output_type": "execute_result",
          "data": {
            "text/plain": [
              "Index(['Cement (component 1)(kg in a m^3 mixture)',\n",
              "       'Blast Furnace Slag (component 2)(kg in a m^3 mixture)',\n",
              "       'Fly Ash (component 3)(kg in a m^3 mixture)',\n",
              "       'Water  (component 4)(kg in a m^3 mixture)',\n",
              "       'Superplasticizer (component 5)(kg in a m^3 mixture)',\n",
              "       'Coarse Aggregate  (component 6)(kg in a m^3 mixture)',\n",
              "       'Fine Aggregate (component 7)(kg in a m^3 mixture)', 'Age (day)',\n",
              "       'Concrete compressive strength(MPa, megapascals) '],\n",
              "      dtype='object')"
            ]
          },
          "metadata": {
            "tags": []
          },
          "execution_count": 9
        }
      ]
    },
    {
      "cell_type": "code",
      "metadata": {
        "id": "0pI6EOmVSYA9"
      },
      "source": [
        "# split dataframe into input and output\n",
        "data=df.iloc[:,:8]\n",
        "\n",
        "targets=df.iloc[:,-1]"
      ],
      "execution_count": null,
      "outputs": []
    },
    {
      "cell_type": "code",
      "metadata": {
        "id": "2u3QwSGsGvgO",
        "colab": {
          "base_uri": "https://localhost:8080/"
        },
        "outputId": "2c299b66-e9ba-419a-e76c-d6b3408a9b75"
      },
      "source": [
        "print(\"shape of data =>\",data.shape)\n",
        "print(\"shape of targets =>\",targets.shape)"
      ],
      "execution_count": null,
      "outputs": [
        {
          "output_type": "stream",
          "text": [
            "shape of data => (1030, 8)\n",
            "shape of targets => (1030,)\n"
          ],
          "name": "stdout"
        }
      ]
    },
    {
      "cell_type": "markdown",
      "metadata": {
        "id": "lWpmhXOiQlqM"
      },
      "source": [
        "**plot all input variables**"
      ]
    },
    {
      "cell_type": "code",
      "metadata": {
        "colab": {
          "base_uri": "https://localhost:8080/",
          "height": 1000
        },
        "id": "VgcX-c4uV9H1",
        "outputId": "2efc2980-337d-46cb-b025-ae25b254867c"
      },
      "source": [
        "%matplotlib inline\n",
        "import matplotlib.pyplot as plt\n",
        "plt.style.use('ggplot')\n",
        "pd.DataFrame.hist(data, figsize = [30,30])\n",
        "plt.show()"
      ],
      "execution_count": null,
      "outputs": [
        {
          "output_type": "display_data",
          "data": {
            "image/png": "[encoded data removed]",
            "text/plain": [
              "<Figure size 2160x2160 with 9 Axes>"
            ]
          },
          "metadata": {
            "tags": []
          }
        }
      ]
    },
    {
      "cell_type": "code",
      "metadata": {
        "colab": {
          "base_uri": "https://localhost:8080/",
          "height": 445
        },
        "id": "zNhK-R69vqFN",
        "outputId": "07cffcde-2f76-4aec-fa25-1c273aeac1ff"
      },
      "source": [
        "# plot the target variables\n",
        "plt.style.use('ggplot')\n",
        "targets.hist( figsize = [7,7])\n",
        "plt.title(\"Actual Targets\")\n",
        "plt.show()"
      ],
      "execution_count": null,
      "outputs": [
        {
          "output_type": "display_data",
          "data": {
            "image/png": "[encoded data removed]",
            "text/plain": [
              "<Figure size 504x504 with 1 Axes>"
            ]
          },
          "metadata": {
            "tags": []
          }
        }
      ]
    },
    {
      "cell_type": "code",
      "metadata": {
        "id": "mel2k2Nwf0LI"
      },
      "source": [
        "# standardized or normalized the data (input variables)\n",
        "mean = data.mean(axis=0)\n",
        "data-= mean\n",
        "std = data.std(axis=0)\n",
        "data/= std"
      ],
      "execution_count": null,
      "outputs": []
    },
    {
      "cell_type": "code",
      "metadata": {
        "id": "e6Q4b8UpXI8a"
      },
      "source": [
        "# data spliting using machine learning spliting method\n",
        "\n",
        "from sklearn.model_selection import train_test_split\n",
        "X_train,X_test,y_train,y_test=train_test_split(data,targets, test_size=0.3,random_state=0)"
      ],
      "execution_count": null,
      "outputs": []
    },
    {
      "cell_type": "code",
      "metadata": {
        "colab": {
          "base_uri": "https://localhost:8080/"
        },
        "id": "cxld28AodAxY",
        "outputId": "90cf1172-8463-4e85-cb04-53192e0a5b13"
      },
      "source": [
        "print(f\"Shape of training data :{X_train.shape},\\nShape of training targets:{y_train.shape}\")"
      ],
      "execution_count": null,
      "outputs": [
        {
          "output_type": "stream",
          "text": [
            "Shape of training data :(721, 8),\n",
            "Shape of training targets:(721,)\n"
          ],
          "name": "stdout"
        }
      ]
    },
    {
      "cell_type": "code",
      "metadata": {
        "colab": {
          "base_uri": "https://localhost:8080/"
        },
        "id": "XsIXmksBdKGl",
        "outputId": "2c4cd2b4-d0e9-4a8f-ffe5-0d15ebb5dea8"
      },
      "source": [
        "print(f\"Shape of testing data :{X_test.shape},\\nShape of testing targets:{y_test.shape}\")"
      ],
      "execution_count": null,
      "outputs": [
        {
          "output_type": "stream",
          "text": [
            "Shape of testing data :(309, 8),\n",
            "Shape of testing targets:(309,)\n"
          ],
          "name": "stdout"
        }
      ]
    },
    {
      "cell_type": "code",
      "metadata": {
        "id": "pJ4OdxP9g5Wa"
      },
      "source": [
        "X_train= np.asarray(X_train).astype('float32')\n",
        "X_test= np.asarray(X_test).astype('float32')\n"
      ],
      "execution_count": null,
      "outputs": []
    },
    {
      "cell_type": "code",
      "metadata": {
        "id": "gPt7yuVKZHWf",
        "colab": {
          "base_uri": "https://localhost:8080/"
        },
        "outputId": "18e12ed9-7d2c-4ebb-d3cb-bdbfb1a9112d"
      },
      "source": [
        "X_train.shape"
      ],
      "execution_count": null,
      "outputs": [
        {
          "output_type": "execute_result",
          "data": {
            "text/plain": [
              "(721, 8)"
            ]
          },
          "metadata": {
            "tags": []
          },
          "execution_count": 38
        }
      ]
    },
    {
      "cell_type": "code",
      "metadata": {
        "id": "vTEZe1o7btrQ"
      },
      "source": [
        ""
      ],
      "execution_count": null,
      "outputs": []
    },
    {
      "cell_type": "code",
      "metadata": {
        "id": "uTKLaC-_jgZC"
      },
      "source": [
        "val_X = X_train[:210]\n",
        "partial_X_train=X_train[210:]\n",
        "val_y=y_train[:210]\n",
        "partial_y_train=y_train[210:]\n"
      ],
      "execution_count": null,
      "outputs": []
    },
    {
      "cell_type": "markdown",
      "metadata": {
        "id": "gTwd291CRD5C"
      },
      "source": [
        "**Bilud the model**"
      ]
    },
    {
      "cell_type": "code",
      "metadata": {
        "id": "yI9PhkMyhH9Q"
      },
      "source": [
        "from keras import models, layers , optimizers"
      ],
      "execution_count": null,
      "outputs": []
    },
    {
      "cell_type": "code",
      "metadata": {
        "id": "FBHIpQiNhLsk"
      },
      "source": [
        "network=models.Sequential()\n",
        "network.add(tf.keras.layers.Dense(10,activation=\"relu\",input_shape=(X_train.shape[1],)))\n",
        "network.add(tf.keras.layers.Dense(8,activation=\"relu\"))\n",
        "network.add(tf.keras.layers.Dense(6,activation=\"relu\"))\n",
        "network.add(tf.keras.layers.Dense(1))\n"
      ],
      "execution_count": null,
      "outputs": []
    },
    {
      "cell_type": "code",
      "metadata": {
        "colab": {
          "base_uri": "https://localhost:8080/"
        },
        "id": "vxNlTIfWihRB",
        "outputId": "07d551f6-25b3-4e20-99f9-e8a22109de19"
      },
      "source": [
        "# Check the model summary\n",
        "network.summary()"
      ],
      "execution_count": null,
      "outputs": [
        {
          "output_type": "stream",
          "text": [
            "Model: \"sequential\"\n",
            "_________________________________________________________________\n",
            "Layer (type)                 Output Shape              Param #   \n",
            "=================================================================\n",
            "dense (Dense)                (None, 10)                90        \n",
            "_________________________________________________________________\n",
            "dense_1 (Dense)              (None, 8)                 88        \n",
            "_________________________________________________________________\n",
            "dense_2 (Dense)              (None, 6)                 54        \n",
            "_________________________________________________________________\n",
            "dense_3 (Dense)              (None, 1)                 7         \n",
            "=================================================================\n",
            "Total params: 239\n",
            "Trainable params: 239\n",
            "Non-trainable params: 0\n",
            "_________________________________________________________________\n"
          ],
          "name": "stdout"
        }
      ]
    },
    {
      "cell_type": "code",
      "metadata": {
        "id": "DojP0-ZZipQE"
      },
      "source": [
        "# compiling the model\n",
        "network.compile(optimizer=optimizers.RMSprop(lr=0.001), loss=\"mse\",metrics=['mae'])"
      ],
      "execution_count": null,
      "outputs": []
    },
    {
      "cell_type": "code",
      "metadata": {
        "colab": {
          "base_uri": "https://localhost:8080/"
        },
        "id": "KE-wc1irh7dL",
        "outputId": "63004911-6a0c-46ad-d125-875721de5bd3"
      },
      "source": [
        "history=network.fit(partial_X_train,partial_y_train,epochs=100,validation_data=(val_X,val_y),batch_size=1,verbose=1)"
      ],
      "execution_count": null,
      "outputs": [
        {
          "output_type": "stream",
          "text": [
            "Epoch 1/100\n",
            "511/511 [==============================] - 2s 2ms/step - loss: 1603.1957 - mae: 36.4216 - val_loss: 1339.3538 - val_mae: 32.4090\n",
            "Epoch 2/100\n",
            "511/511 [==============================] - 1s 1ms/step - loss: 1197.7329 - mae: 29.8289 - val_loss: 588.7391 - val_mae: 18.1620\n",
            "Epoch 3/100\n",
            "511/511 [==============================] - 1s 1ms/step - loss: 473.7142 - mae: 15.8825 - val_loss: 294.6623 - val_mae: 13.4973\n",
            "Epoch 4/100\n",
            "511/511 [==============================] - 1s 1ms/step - loss: 231.1065 - mae: 11.9483 - val_loss: 213.3809 - val_mae: 11.6496\n",
            "Epoch 5/100\n",
            "511/511 [==============================] - 1s 1ms/step - loss: 176.2510 - mae: 10.3959 - val_loss: 204.0080 - val_mae: 11.1833\n",
            "Epoch 6/100\n",
            "511/511 [==============================] - 1s 1ms/step - loss: 183.9673 - mae: 10.7422 - val_loss: 193.9268 - val_mae: 10.9406\n",
            "Epoch 7/100\n",
            "511/511 [==============================] - 1s 1ms/step - loss: 176.6898 - mae: 10.5036 - val_loss: 190.2110 - val_mae: 10.7945\n",
            "Epoch 8/100\n",
            "511/511 [==============================] - 1s 1ms/step - loss: 173.8292 - mae: 10.3574 - val_loss: 188.2120 - val_mae: 10.7147\n",
            "Epoch 9/100\n",
            "511/511 [==============================] - 1s 1ms/step - loss: 148.3197 - mae: 9.7668 - val_loss: 176.9221 - val_mae: 10.5724\n",
            "Epoch 10/100\n",
            "511/511 [==============================] - 1s 2ms/step - loss: 149.8860 - mae: 9.6555 - val_loss: 181.2028 - val_mae: 10.5113\n",
            "Epoch 11/100\n",
            "511/511 [==============================] - 1s 1ms/step - loss: 146.4335 - mae: 9.4126 - val_loss: 172.2734 - val_mae: 10.2961\n",
            "Epoch 12/100\n",
            "511/511 [==============================] - 1s 1ms/step - loss: 151.6538 - mae: 9.6610 - val_loss: 165.2082 - val_mae: 10.1859\n",
            "Epoch 13/100\n",
            "511/511 [==============================] - 1s 1ms/step - loss: 138.2915 - mae: 9.3135 - val_loss: 161.3434 - val_mae: 10.0859\n",
            "Epoch 14/100\n",
            "511/511 [==============================] - 1s 2ms/step - loss: 146.3053 - mae: 9.5307 - val_loss: 159.1597 - val_mae: 9.9377\n",
            "Epoch 15/100\n",
            "511/511 [==============================] - 1s 1ms/step - loss: 132.9649 - mae: 8.9520 - val_loss: 166.2241 - val_mae: 9.9896\n",
            "Epoch 16/100\n",
            "511/511 [==============================] - 1s 1ms/step - loss: 137.2087 - mae: 9.1210 - val_loss: 152.3157 - val_mae: 9.7520\n",
            "Epoch 17/100\n",
            "511/511 [==============================] - 1s 1ms/step - loss: 147.6691 - mae: 9.5499 - val_loss: 155.7195 - val_mae: 9.6756\n",
            "Epoch 18/100\n",
            "511/511 [==============================] - 1s 1ms/step - loss: 151.8907 - mae: 9.7710 - val_loss: 144.8588 - val_mae: 9.4996\n",
            "Epoch 19/100\n",
            "511/511 [==============================] - 1s 1ms/step - loss: 127.0866 - mae: 8.7020 - val_loss: 147.8929 - val_mae: 9.4058\n",
            "Epoch 20/100\n",
            "511/511 [==============================] - 1s 1ms/step - loss: 127.7286 - mae: 8.8709 - val_loss: 137.6161 - val_mae: 9.2328\n",
            "Epoch 21/100\n",
            "511/511 [==============================] - 1s 1ms/step - loss: 129.6619 - mae: 8.9056 - val_loss: 136.5654 - val_mae: 9.1024\n",
            "Epoch 22/100\n",
            "511/511 [==============================] - 1s 1ms/step - loss: 112.8956 - mae: 8.1855 - val_loss: 127.5729 - val_mae: 8.9936\n",
            "Epoch 23/100\n",
            "511/511 [==============================] - 1s 1ms/step - loss: 126.9172 - mae: 8.9254 - val_loss: 128.2463 - val_mae: 8.8631\n",
            "Epoch 24/100\n",
            "511/511 [==============================] - 1s 1ms/step - loss: 119.4475 - mae: 8.5564 - val_loss: 122.6415 - val_mae: 8.7495\n",
            "Epoch 25/100\n",
            "511/511 [==============================] - 1s 1ms/step - loss: 114.8371 - mae: 8.2779 - val_loss: 119.6809 - val_mae: 8.5969\n",
            "Epoch 26/100\n",
            "511/511 [==============================] - 1s 1ms/step - loss: 112.1550 - mae: 8.2769 - val_loss: 120.8504 - val_mae: 8.5231\n",
            "Epoch 27/100\n",
            "511/511 [==============================] - 1s 1ms/step - loss: 112.2945 - mae: 7.9942 - val_loss: 112.5168 - val_mae: 8.4240\n",
            "Epoch 28/100\n",
            "511/511 [==============================] - 1s 1ms/step - loss: 107.1275 - mae: 7.9644 - val_loss: 110.2082 - val_mae: 8.2920\n",
            "Epoch 29/100\n",
            "511/511 [==============================] - 1s 1ms/step - loss: 105.6582 - mae: 7.9809 - val_loss: 109.5449 - val_mae: 8.1831\n",
            "Epoch 30/100\n",
            "511/511 [==============================] - 1s 1ms/step - loss: 110.4275 - mae: 8.1795 - val_loss: 103.7873 - val_mae: 8.0830\n",
            "Epoch 31/100\n",
            "511/511 [==============================] - 1s 1ms/step - loss: 106.5286 - mae: 8.2927 - val_loss: 101.0023 - val_mae: 8.0245\n",
            "Epoch 32/100\n",
            "511/511 [==============================] - 1s 2ms/step - loss: 91.6283 - mae: 7.3521 - val_loss: 97.5659 - val_mae: 7.8604\n",
            "Epoch 33/100\n",
            "511/511 [==============================] - 1s 1ms/step - loss: 92.9537 - mae: 7.5862 - val_loss: 95.0614 - val_mae: 7.7602\n",
            "Epoch 34/100\n",
            "511/511 [==============================] - 1s 1ms/step - loss: 107.1606 - mae: 7.8734 - val_loss: 94.8246 - val_mae: 7.6490\n",
            "Epoch 35/100\n",
            "511/511 [==============================] - 1s 1ms/step - loss: 100.5739 - mae: 7.7032 - val_loss: 91.0026 - val_mae: 7.5220\n",
            "Epoch 36/100\n",
            "511/511 [==============================] - 1s 1ms/step - loss: 87.2712 - mae: 7.2170 - val_loss: 87.9471 - val_mae: 7.4888\n",
            "Epoch 37/100\n",
            "511/511 [==============================] - 1s 1ms/step - loss: 92.2800 - mae: 7.2861 - val_loss: 84.8353 - val_mae: 7.3019\n",
            "Epoch 38/100\n",
            "511/511 [==============================] - 1s 1ms/step - loss: 74.7564 - mae: 6.7629 - val_loss: 80.8914 - val_mae: 7.1966\n",
            "Epoch 39/100\n",
            "511/511 [==============================] - 1s 2ms/step - loss: 77.3050 - mae: 6.6915 - val_loss: 81.5114 - val_mae: 7.1545\n",
            "Epoch 40/100\n",
            "511/511 [==============================] - 1s 1ms/step - loss: 81.5358 - mae: 6.8270 - val_loss: 76.1500 - val_mae: 6.9916\n",
            "Epoch 41/100\n",
            "511/511 [==============================] - 1s 1ms/step - loss: 72.2775 - mae: 6.5223 - val_loss: 74.9905 - val_mae: 6.9409\n",
            "Epoch 42/100\n",
            "511/511 [==============================] - 1s 1ms/step - loss: 66.3905 - mae: 6.1053 - val_loss: 71.2885 - val_mae: 6.7481\n",
            "Epoch 43/100\n",
            "511/511 [==============================] - 1s 1ms/step - loss: 70.9236 - mae: 6.4288 - val_loss: 71.3261 - val_mae: 6.7495\n",
            "Epoch 44/100\n",
            "511/511 [==============================] - 1s 1ms/step - loss: 62.6254 - mae: 5.8479 - val_loss: 68.5549 - val_mae: 6.6566\n",
            "Epoch 45/100\n",
            "511/511 [==============================] - 1s 1ms/step - loss: 69.9962 - mae: 6.3131 - val_loss: 66.9814 - val_mae: 6.4168\n",
            "Epoch 46/100\n",
            "511/511 [==============================] - 1s 1ms/step - loss: 65.0486 - mae: 5.9769 - val_loss: 64.1653 - val_mae: 6.3883\n",
            "Epoch 47/100\n",
            "511/511 [==============================] - 1s 1ms/step - loss: 66.5712 - mae: 6.0115 - val_loss: 64.6420 - val_mae: 6.4671\n",
            "Epoch 48/100\n",
            "511/511 [==============================] - 1s 1ms/step - loss: 67.6538 - mae: 6.2690 - val_loss: 64.1632 - val_mae: 6.2667\n",
            "Epoch 49/100\n",
            "511/511 [==============================] - 1s 1ms/step - loss: 69.8287 - mae: 6.0398 - val_loss: 63.4271 - val_mae: 6.2560\n",
            "Epoch 50/100\n",
            "511/511 [==============================] - 1s 1ms/step - loss: 68.5380 - mae: 6.1280 - val_loss: 60.0582 - val_mae: 6.1217\n",
            "Epoch 51/100\n",
            "511/511 [==============================] - 1s 1ms/step - loss: 59.2016 - mae: 5.6490 - val_loss: 61.2236 - val_mae: 6.1590\n",
            "Epoch 52/100\n",
            "511/511 [==============================] - 1s 1ms/step - loss: 63.9805 - mae: 5.7862 - val_loss: 67.4774 - val_mae: 6.4581\n",
            "Epoch 53/100\n",
            "511/511 [==============================] - 1s 1ms/step - loss: 67.9708 - mae: 6.1452 - val_loss: 58.1108 - val_mae: 5.9646\n",
            "Epoch 54/100\n",
            "511/511 [==============================] - 1s 2ms/step - loss: 52.7934 - mae: 5.4129 - val_loss: 57.5391 - val_mae: 5.9469\n",
            "Epoch 55/100\n",
            "511/511 [==============================] - 1s 1ms/step - loss: 63.2659 - mae: 5.9546 - val_loss: 63.2295 - val_mae: 6.2987\n",
            "Epoch 56/100\n",
            "511/511 [==============================] - 1s 2ms/step - loss: 61.2878 - mae: 5.8814 - val_loss: 56.9735 - val_mae: 5.9890\n",
            "Epoch 57/100\n",
            "511/511 [==============================] - 1s 1ms/step - loss: 57.0949 - mae: 5.6827 - val_loss: 57.3601 - val_mae: 5.9262\n",
            "Epoch 58/100\n",
            "511/511 [==============================] - 1s 2ms/step - loss: 56.9268 - mae: 5.6686 - val_loss: 56.6314 - val_mae: 5.9690\n",
            "Epoch 59/100\n",
            "511/511 [==============================] - 1s 1ms/step - loss: 57.6544 - mae: 5.6233 - val_loss: 63.7576 - val_mae: 6.2614\n",
            "Epoch 60/100\n",
            "511/511 [==============================] - 1s 2ms/step - loss: 56.9755 - mae: 5.4140 - val_loss: 54.8491 - val_mae: 5.7545\n",
            "Epoch 61/100\n",
            "511/511 [==============================] - 1s 1ms/step - loss: 52.0961 - mae: 5.3742 - val_loss: 55.4195 - val_mae: 5.8853\n",
            "Epoch 62/100\n",
            "511/511 [==============================] - 1s 2ms/step - loss: 49.1559 - mae: 5.0209 - val_loss: 54.8434 - val_mae: 5.7764\n",
            "Epoch 63/100\n",
            "511/511 [==============================] - 1s 2ms/step - loss: 64.3161 - mae: 5.8643 - val_loss: 59.0667 - val_mae: 6.1171\n",
            "Epoch 64/100\n",
            "511/511 [==============================] - 1s 2ms/step - loss: 55.2145 - mae: 5.5198 - val_loss: 53.7497 - val_mae: 5.7108\n",
            "Epoch 65/100\n",
            "511/511 [==============================] - 1s 2ms/step - loss: 55.5225 - mae: 5.6471 - val_loss: 53.2691 - val_mae: 5.6891\n",
            "Epoch 66/100\n",
            "511/511 [==============================] - 1s 2ms/step - loss: 54.0585 - mae: 5.4416 - val_loss: 54.9468 - val_mae: 5.7254\n",
            "Epoch 67/100\n",
            "511/511 [==============================] - 1s 2ms/step - loss: 50.7872 - mae: 5.3899 - val_loss: 51.9585 - val_mae: 5.6781\n",
            "Epoch 68/100\n",
            "511/511 [==============================] - 1s 2ms/step - loss: 50.2190 - mae: 5.2636 - val_loss: 53.3538 - val_mae: 5.6991\n",
            "Epoch 69/100\n",
            "511/511 [==============================] - 1s 2ms/step - loss: 60.9622 - mae: 5.8203 - val_loss: 56.5396 - val_mae: 5.8583\n",
            "Epoch 70/100\n",
            "511/511 [==============================] - 1s 2ms/step - loss: 47.3782 - mae: 5.2148 - val_loss: 51.5461 - val_mae: 5.5644\n",
            "Epoch 71/100\n",
            "511/511 [==============================] - 1s 2ms/step - loss: 47.3965 - mae: 4.9335 - val_loss: 52.7228 - val_mae: 5.5156\n",
            "Epoch 72/100\n",
            "511/511 [==============================] - 1s 2ms/step - loss: 50.5947 - mae: 5.4376 - val_loss: 56.1136 - val_mae: 5.7884\n",
            "Epoch 73/100\n",
            "511/511 [==============================] - 1s 2ms/step - loss: 51.7421 - mae: 5.4816 - val_loss: 54.9455 - val_mae: 5.8435\n",
            "Epoch 74/100\n",
            "511/511 [==============================] - 1s 2ms/step - loss: 48.7140 - mae: 5.2838 - val_loss: 50.7481 - val_mae: 5.5944\n",
            "Epoch 75/100\n",
            "511/511 [==============================] - 1s 2ms/step - loss: 46.7708 - mae: 5.0425 - val_loss: 53.9266 - val_mae: 5.7396\n",
            "Epoch 76/100\n",
            "511/511 [==============================] - 1s 2ms/step - loss: 48.4944 - mae: 4.9967 - val_loss: 49.6943 - val_mae: 5.4572\n",
            "Epoch 77/100\n",
            "511/511 [==============================] - 1s 2ms/step - loss: 51.0178 - mae: 5.0397 - val_loss: 52.6095 - val_mae: 5.5465\n",
            "Epoch 78/100\n",
            "511/511 [==============================] - 1s 2ms/step - loss: 48.6971 - mae: 5.2142 - val_loss: 49.9092 - val_mae: 5.5003\n",
            "Epoch 79/100\n",
            "511/511 [==============================] - 1s 2ms/step - loss: 45.9179 - mae: 5.0410 - val_loss: 51.4101 - val_mae: 5.5989\n",
            "Epoch 80/100\n",
            "511/511 [==============================] - 1s 2ms/step - loss: 53.8103 - mae: 5.3903 - val_loss: 49.9453 - val_mae: 5.4625\n",
            "Epoch 81/100\n",
            "511/511 [==============================] - 1s 2ms/step - loss: 46.9749 - mae: 4.9334 - val_loss: 48.7299 - val_mae: 5.3883\n",
            "Epoch 82/100\n",
            "511/511 [==============================] - 1s 2ms/step - loss: 48.0862 - mae: 5.1539 - val_loss: 47.5173 - val_mae: 5.3731\n",
            "Epoch 83/100\n",
            "511/511 [==============================] - 1s 2ms/step - loss: 39.5205 - mae: 4.6294 - val_loss: 52.4999 - val_mae: 5.5863\n",
            "Epoch 84/100\n",
            "511/511 [==============================] - 1s 2ms/step - loss: 51.3000 - mae: 4.9742 - val_loss: 49.3844 - val_mae: 5.4386\n",
            "Epoch 85/100\n",
            "511/511 [==============================] - 1s 2ms/step - loss: 47.3259 - mae: 5.0683 - val_loss: 47.1901 - val_mae: 5.3777\n",
            "Epoch 86/100\n",
            "511/511 [==============================] - 1s 2ms/step - loss: 42.0199 - mae: 4.7293 - val_loss: 45.9328 - val_mae: 5.1797\n",
            "Epoch 87/100\n",
            "511/511 [==============================] - 1s 2ms/step - loss: 56.9209 - mae: 5.1494 - val_loss: 45.3225 - val_mae: 5.2397\n",
            "Epoch 88/100\n",
            "511/511 [==============================] - 1s 2ms/step - loss: 47.1601 - mae: 4.9443 - val_loss: 46.2310 - val_mae: 5.2254\n",
            "Epoch 89/100\n",
            "511/511 [==============================] - 1s 2ms/step - loss: 43.7954 - mae: 4.7916 - val_loss: 47.6211 - val_mae: 5.2789\n",
            "Epoch 90/100\n",
            "511/511 [==============================] - 1s 2ms/step - loss: 43.2089 - mae: 4.8830 - val_loss: 46.8784 - val_mae: 5.3771\n",
            "Epoch 91/100\n",
            "511/511 [==============================] - 1s 2ms/step - loss: 42.3936 - mae: 4.5806 - val_loss: 43.8166 - val_mae: 5.1250\n",
            "Epoch 92/100\n",
            "511/511 [==============================] - 1s 2ms/step - loss: 42.1250 - mae: 4.7343 - val_loss: 44.5224 - val_mae: 5.0953\n",
            "Epoch 93/100\n",
            "511/511 [==============================] - 1s 2ms/step - loss: 40.6396 - mae: 4.6498 - val_loss: 43.8954 - val_mae: 5.1003\n",
            "Epoch 94/100\n",
            "511/511 [==============================] - 1s 2ms/step - loss: 38.2454 - mae: 4.4553 - val_loss: 47.5132 - val_mae: 5.2335\n",
            "Epoch 95/100\n",
            "511/511 [==============================] - 1s 2ms/step - loss: 42.1056 - mae: 4.7442 - val_loss: 46.2095 - val_mae: 5.2087\n",
            "Epoch 96/100\n",
            "511/511 [==============================] - 1s 2ms/step - loss: 38.5488 - mae: 4.5199 - val_loss: 44.8723 - val_mae: 5.0794\n",
            "Epoch 97/100\n",
            "511/511 [==============================] - 1s 1ms/step - loss: 45.7966 - mae: 4.9662 - val_loss: 43.5922 - val_mae: 4.9735\n",
            "Epoch 98/100\n",
            "511/511 [==============================] - 1s 1ms/step - loss: 39.3570 - mae: 4.5916 - val_loss: 44.1606 - val_mae: 5.0563\n",
            "Epoch 99/100\n",
            "511/511 [==============================] - 1s 1ms/step - loss: 43.4670 - mae: 4.9730 - val_loss: 42.4917 - val_mae: 4.9606\n",
            "Epoch 100/100\n",
            "511/511 [==============================] - 1s 2ms/step - loss: 42.5405 - mae: 4.7224 - val_loss: 41.4591 - val_mae: 4.8904\n"
          ],
          "name": "stdout"
        }
      ]
    },
    {
      "cell_type": "markdown",
      "metadata": {
        "id": "FNXgnnaDR58s"
      },
      "source": [
        "**Trainning and validation loss**"
      ]
    },
    {
      "cell_type": "code",
      "metadata": {
        "colab": {
          "base_uri": "https://localhost:8080/",
          "height": 299
        },
        "id": "XY28DpqQlLYr",
        "outputId": "77989b2f-0d61-4eb0-c872-06e424a4d9af"
      },
      "source": [
        "loss = history.history['loss']\n",
        "val_loss = history.history['val_loss']\n",
        "epochs = range(1, len(loss) + 1)\n",
        "plt.plot(epochs, loss, 'bo', label='Training loss')\n",
        "plt.plot(epochs, val_loss, 'b', label='Validation loss')\n",
        "plt.title('Training and validation loss')\n",
        "plt.xlabel('Epochs')\n",
        "plt.ylabel('Loss')\n",
        "plt.legend()\n",
        "plt.show()"
      ],
      "execution_count": null,
      "outputs": [
        {
          "output_type": "display_data",
          "data": {
            "image/png": "[encoded data removed]",
            "text/plain": [
              "<Figure size 432x288 with 1 Axes>"
            ]
          },
          "metadata": {
            "tags": []
          }
        }
      ]
    },
    {
      "cell_type": "code",
      "metadata": {
        "id": "-Qv0rB78PVY8"
      },
      "source": [
        ""
      ],
      "execution_count": null,
      "outputs": []
    },
    {
      "cell_type": "code",
      "metadata": {
        "colab": {
          "base_uri": "https://localhost:8080/"
        },
        "id": "425Sn4TpmDgv",
        "outputId": "42be7adf-cfd7-45c7-d47a-5c9b27952ea3"
      },
      "source": [
        "# print absolute error\n",
        "all_mae_histories=[]\n",
        "mae_history = history.history['val_mae']\n",
        "all_mae_histories.append(mae_history)\n",
        "print(all_mae_histories)"
      ],
      "execution_count": null,
      "outputs": [
        {
          "output_type": "stream",
          "text": [
            "[[32.408966064453125, 18.161964416503906, 13.497333526611328, 11.649589538574219, 11.183330535888672, 10.940583229064941, 10.794525146484375, 10.714701652526855, 10.572420120239258, 10.511296272277832, 10.296149253845215, 10.185892105102539, 10.085926055908203, 9.937700271606445, 9.989577293395996, 9.75202751159668, 9.675631523132324, 9.499625205993652, 9.405844688415527, 9.232797622680664, 9.102399826049805, 8.993611335754395, 8.863128662109375, 8.749547958374023, 8.596896171569824, 8.523128509521484, 8.423995971679688, 8.292031288146973, 8.183117866516113, 8.083006858825684, 8.024477005004883, 7.860402584075928, 7.7602410316467285, 7.648960590362549, 7.521991729736328, 7.488801002502441, 7.301948547363281, 7.196631908416748, 7.154510974884033, 6.99159049987793, 6.940885543823242, 6.748144149780273, 6.74947452545166, 6.6566162109375, 6.416769027709961, 6.38834285736084, 6.467083930969238, 6.266656875610352, 6.255955696105957, 6.121677875518799, 6.1590046882629395, 6.45810079574585, 5.964617729187012, 5.94691276550293, 6.298743724822998, 5.988959789276123, 5.926187992095947, 5.968998908996582, 6.261427879333496, 5.754544734954834, 5.885339260101318, 5.776421070098877, 6.117075443267822, 5.710798740386963, 5.6890740394592285, 5.725432872772217, 5.678065299987793, 5.699136734008789, 5.858259677886963, 5.564431190490723, 5.515628337860107, 5.788414478302002, 5.843480110168457, 5.59443998336792, 5.73961877822876, 5.457241535186768, 5.546539783477783, 5.500272274017334, 5.598855972290039, 5.4625067710876465, 5.388339996337891, 5.373132228851318, 5.586341381072998, 5.438610076904297, 5.377709865570068, 5.179686546325684, 5.239660739898682, 5.225378513336182, 5.278931617736816, 5.377070426940918, 5.124960899353027, 5.095265865325928, 5.100341320037842, 5.23354434967041, 5.208714008331299, 5.079446315765381, 4.973540306091309, 5.056276798248291, 4.960621356964111, 4.890390872955322]]\n"
          ],
          "name": "stdout"
        }
      ]
    },
    {
      "cell_type": "code",
      "metadata": {
        "colab": {
          "base_uri": "https://localhost:8080/"
        },
        "id": "eYbwAuH9n0MS",
        "outputId": "8c158b6c-657b-4712-a0e8-b8d16fe4e4d5"
      },
      "source": [
        "average_mae_history = [np.mean([x[i] for x in all_mae_histories]) for i in range(100)]\n",
        "print(average_mae_history)"
      ],
      "execution_count": null,
      "outputs": [
        {
          "output_type": "stream",
          "text": [
            "[32.408966064453125, 18.161964416503906, 13.497333526611328, 11.649589538574219, 11.183330535888672, 10.940583229064941, 10.794525146484375, 10.714701652526855, 10.572420120239258, 10.511296272277832, 10.296149253845215, 10.185892105102539, 10.085926055908203, 9.937700271606445, 9.989577293395996, 9.75202751159668, 9.675631523132324, 9.499625205993652, 9.405844688415527, 9.232797622680664, 9.102399826049805, 8.993611335754395, 8.863128662109375, 8.749547958374023, 8.596896171569824, 8.523128509521484, 8.423995971679688, 8.292031288146973, 8.183117866516113, 8.083006858825684, 8.024477005004883, 7.860402584075928, 7.7602410316467285, 7.648960590362549, 7.521991729736328, 7.488801002502441, 7.301948547363281, 7.196631908416748, 7.154510974884033, 6.99159049987793, 6.940885543823242, 6.748144149780273, 6.74947452545166, 6.6566162109375, 6.416769027709961, 6.38834285736084, 6.467083930969238, 6.266656875610352, 6.255955696105957, 6.121677875518799, 6.1590046882629395, 6.45810079574585, 5.964617729187012, 5.94691276550293, 6.298743724822998, 5.988959789276123, 5.926187992095947, 5.968998908996582, 6.261427879333496, 5.754544734954834, 5.885339260101318, 5.776421070098877, 6.117075443267822, 5.710798740386963, 5.6890740394592285, 5.725432872772217, 5.678065299987793, 5.699136734008789, 5.858259677886963, 5.564431190490723, 5.515628337860107, 5.788414478302002, 5.843480110168457, 5.59443998336792, 5.73961877822876, 5.457241535186768, 5.546539783477783, 5.500272274017334, 5.598855972290039, 5.4625067710876465, 5.388339996337891, 5.373132228851318, 5.586341381072998, 5.438610076904297, 5.377709865570068, 5.179686546325684, 5.239660739898682, 5.225378513336182, 5.278931617736816, 5.377070426940918, 5.124960899353027, 5.095265865325928, 5.100341320037842, 5.23354434967041, 5.208714008331299, 5.079446315765381, 4.973540306091309, 5.056276798248291, 4.960621356964111, 4.890390872955322]\n"
          ],
          "name": "stdout"
        }
      ]
    },
    {
      "cell_type": "code",
      "metadata": {
        "colab": {
          "base_uri": "https://localhost:8080/",
          "height": 299
        },
        "id": "_QIM2eiRmxTw",
        "outputId": "b1a1d029-a336-4846-d923-3dc6bdc9281a"
      },
      "source": [
        "plt.plot(range(1, len(average_mae_history) + 1), average_mae_history)\n",
        "plt.title('Validation MAE by Epochs')\n",
        "plt.xlabel('Epochs')\n",
        "plt.ylabel('Validation MAE')\n",
        "plt.grid()\n",
        "plt.show()"
      ],
      "execution_count": null,
      "outputs": [
        {
          "output_type": "display_data",
          "data": {
            "image/png": "[encoded data removed]",
            "text/plain": [
              "<Figure size 432x288 with 1 Axes>"
            ]
          },
          "metadata": {
            "tags": []
          }
        }
      ]
    },
    {
      "cell_type": "markdown",
      "metadata": {
        "id": "g1a7JKXlSaYw"
      },
      "source": [
        "**Model evaluation**"
      ]
    },
    {
      "cell_type": "code",
      "metadata": {
        "colab": {
          "base_uri": "https://localhost:8080/"
        },
        "id": "aedgvZfCoEqr",
        "outputId": "993c5784-04dc-4703-c06f-cd60324cf2fd"
      },
      "source": [
        "test_mse_score, test_mae_score = network.evaluate(X_test, y_test)"
      ],
      "execution_count": null,
      "outputs": [
        {
          "output_type": "stream",
          "text": [
            "10/10 [==============================] - 0s 2ms/step - loss: 45.1174 - mae: 5.0201\n"
          ],
          "name": "stdout"
        }
      ]
    },
    {
      "cell_type": "code",
      "metadata": {
        "colab": {
          "base_uri": "https://localhost:8080/"
        },
        "id": "VGsxBThTqvjm",
        "outputId": "c83f455a-867b-499e-9752-498b8b438e3f"
      },
      "source": [
        " print(f\"test mae score is :{ test_mae_score} ,\\ntest mse score is :{test_mse_score}\" )"
      ],
      "execution_count": null,
      "outputs": [
        {
          "output_type": "stream",
          "text": [
            "test mae score is :5.02012825012207 ,\n",
            "test mse score is :45.117366790771484\n"
          ],
          "name": "stdout"
        }
      ]
    },
    {
      "cell_type": "markdown",
      "metadata": {
        "id": "JTJw43w2TvZZ"
      },
      "source": [
        "**Prediction the model**"
      ]
    },
    {
      "cell_type": "code",
      "metadata": {
        "colab": {
          "base_uri": "https://localhost:8080/"
        },
        "id": "qepWbko8rXy7",
        "outputId": "720cbd39-1a00-458c-9bc0-93b688d22a3b"
      },
      "source": [
        "\n",
        "y_pred = network.predict(X_test)\n",
        "y_pred"
      ],
      "execution_count": null,
      "outputs": [
        {
          "output_type": "execute_result",
          "data": {
            "text/plain": [
              "array([[31.107557 ],\n",
              "       [10.536798 ],\n",
              "       [77.46446  ],\n",
              "       [59.145256 ],\n",
              "       [13.300917 ],\n",
              "       [52.512047 ],\n",
              "       [58.33465  ],\n",
              "       [18.32337  ],\n",
              "       [66.832245 ],\n",
              "       [43.882042 ],\n",
              "       [19.132614 ],\n",
              "       [56.283775 ],\n",
              "       [40.81167  ],\n",
              "       [17.747087 ],\n",
              "       [62.527107 ],\n",
              "       [67.74987  ],\n",
              "       [32.10647  ],\n",
              "       [36.370396 ],\n",
              "       [47.546917 ],\n",
              "       [38.75306  ],\n",
              "       [61.182816 ],\n",
              "       [28.169083 ],\n",
              "       [26.864155 ],\n",
              "       [44.292446 ],\n",
              "       [16.191349 ],\n",
              "       [26.950006 ],\n",
              "       [56.71386  ],\n",
              "       [19.225096 ],\n",
              "       [67.74987  ],\n",
              "       [63.287567 ],\n",
              "       [21.483564 ],\n",
              "       [45.907616 ],\n",
              "       [25.32934  ],\n",
              "       [30.874607 ],\n",
              "       [17.471128 ],\n",
              "       [ 6.3904753],\n",
              "       [49.484745 ],\n",
              "       [23.244808 ],\n",
              "       [28.524693 ],\n",
              "       [24.871801 ],\n",
              "       [50.718426 ],\n",
              "       [41.29095  ],\n",
              "       [28.255608 ],\n",
              "       [32.791855 ],\n",
              "       [59.59     ],\n",
              "       [42.303482 ],\n",
              "       [24.949835 ],\n",
              "       [37.68289  ],\n",
              "       [35.243412 ],\n",
              "       [41.96569  ],\n",
              "       [44.75512  ],\n",
              "       [25.45733  ],\n",
              "       [26.72828  ],\n",
              "       [40.66771  ],\n",
              "       [56.143982 ],\n",
              "       [49.3846   ],\n",
              "       [39.01689  ],\n",
              "       [53.23666  ],\n",
              "       [69.42814  ],\n",
              "       [48.731342 ],\n",
              "       [38.45347  ],\n",
              "       [18.074415 ],\n",
              "       [52.175507 ],\n",
              "       [36.356808 ],\n",
              "       [10.639279 ],\n",
              "       [51.702995 ],\n",
              "       [39.132088 ],\n",
              "       [30.356514 ],\n",
              "       [11.595812 ],\n",
              "       [15.084896 ],\n",
              "       [16.051945 ],\n",
              "       [23.85729  ],\n",
              "       [44.995857 ],\n",
              "       [23.334373 ],\n",
              "       [36.959824 ],\n",
              "       [40.003445 ],\n",
              "       [30.302517 ],\n",
              "       [10.939944 ],\n",
              "       [30.838438 ],\n",
              "       [40.975033 ],\n",
              "       [17.058207 ],\n",
              "       [55.696518 ],\n",
              "       [27.355785 ],\n",
              "       [27.932707 ],\n",
              "       [52.675804 ],\n",
              "       [39.56767  ],\n",
              "       [39.58407  ],\n",
              "       [49.42868  ],\n",
              "       [39.48652  ],\n",
              "       [37.08414  ],\n",
              "       [61.03088  ],\n",
              "       [13.815617 ],\n",
              "       [13.072999 ],\n",
              "       [38.91288  ],\n",
              "       [17.969555 ],\n",
              "       [51.335926 ],\n",
              "       [23.245487 ],\n",
              "       [42.010887 ],\n",
              "       [47.03927  ],\n",
              "       [39.02544  ],\n",
              "       [23.851486 ],\n",
              "       [30.87831  ],\n",
              "       [34.28951  ],\n",
              "       [29.0941   ],\n",
              "       [40.659588 ],\n",
              "       [42.130558 ],\n",
              "       [49.79847  ],\n",
              "       [18.619305 ],\n",
              "       [33.69774  ],\n",
              "       [41.4237   ],\n",
              "       [10.9362755],\n",
              "       [62.396442 ],\n",
              "       [15.742494 ],\n",
              "       [27.916933 ],\n",
              "       [50.078255 ],\n",
              "       [62.90872  ],\n",
              "       [38.71757  ],\n",
              "       [35.381313 ],\n",
              "       [38.011868 ],\n",
              "       [23.7047   ],\n",
              "       [49.027225 ],\n",
              "       [25.457092 ],\n",
              "       [71.13517  ],\n",
              "       [30.39816  ],\n",
              "       [11.37199  ],\n",
              "       [ 8.054859 ],\n",
              "       [12.352563 ],\n",
              "       [12.126916 ],\n",
              "       [48.595825 ],\n",
              "       [39.61807  ],\n",
              "       [28.906332 ],\n",
              "       [42.019524 ],\n",
              "       [32.20253  ],\n",
              "       [26.248285 ],\n",
              "       [ 8.042445 ],\n",
              "       [58.87019  ],\n",
              "       [42.166252 ],\n",
              "       [41.166977 ],\n",
              "       [ 6.276194 ],\n",
              "       [13.19734  ],\n",
              "       [35.09068  ],\n",
              "       [42.25479  ],\n",
              "       [26.93832  ],\n",
              "       [34.81591  ],\n",
              "       [16.681376 ],\n",
              "       [30.972906 ],\n",
              "       [39.935764 ],\n",
              "       [13.773673 ],\n",
              "       [35.900307 ],\n",
              "       [18.76703  ],\n",
              "       [17.993309 ],\n",
              "       [15.717646 ],\n",
              "       [19.623169 ],\n",
              "       [29.93902  ],\n",
              "       [36.961514 ],\n",
              "       [35.890312 ],\n",
              "       [36.011806 ],\n",
              "       [24.661295 ],\n",
              "       [35.328045 ],\n",
              "       [27.122536 ],\n",
              "       [39.151314 ],\n",
              "       [37.083313 ],\n",
              "       [12.873534 ],\n",
              "       [30.380043 ],\n",
              "       [34.588585 ],\n",
              "       [ 9.45388  ],\n",
              "       [40.48895  ],\n",
              "       [53.00272  ],\n",
              "       [42.722267 ],\n",
              "       [ 6.2186694],\n",
              "       [42.09141  ],\n",
              "       [38.52885  ],\n",
              "       [29.78927  ],\n",
              "       [39.518337 ],\n",
              "       [11.664647 ],\n",
              "       [12.953104 ],\n",
              "       [ 8.0977955],\n",
              "       [40.967457 ],\n",
              "       [30.991436 ],\n",
              "       [42.957767 ],\n",
              "       [18.28465  ],\n",
              "       [29.210445 ],\n",
              "       [13.6398115],\n",
              "       [46.150352 ],\n",
              "       [29.729244 ],\n",
              "       [35.5731   ],\n",
              "       [37.974308 ],\n",
              "       [44.86766  ],\n",
              "       [18.67408  ],\n",
              "       [52.175507 ],\n",
              "       [27.67995  ],\n",
              "       [67.027245 ],\n",
              "       [52.70839  ],\n",
              "       [38.87869  ],\n",
              "       [ 7.260462 ],\n",
              "       [43.80365  ],\n",
              "       [38.95731  ],\n",
              "       [30.653717 ],\n",
              "       [38.03885  ],\n",
              "       [71.49082  ],\n",
              "       [19.732668 ],\n",
              "       [28.14377  ],\n",
              "       [31.556175 ],\n",
              "       [24.992146 ],\n",
              "       [39.202465 ],\n",
              "       [18.467361 ],\n",
              "       [46.347507 ],\n",
              "       [37.51393  ],\n",
              "       [42.36014  ],\n",
              "       [19.075502 ],\n",
              "       [53.794567 ],\n",
              "       [18.157682 ],\n",
              "       [14.150339 ],\n",
              "       [26.850197 ],\n",
              "       [43.098305 ],\n",
              "       [25.841043 ],\n",
              "       [27.000917 ],\n",
              "       [29.488491 ],\n",
              "       [22.20699  ],\n",
              "       [41.744587 ],\n",
              "       [70.238846 ],\n",
              "       [22.146954 ],\n",
              "       [39.59657  ],\n",
              "       [32.16577  ],\n",
              "       [31.357384 ],\n",
              "       [42.229225 ],\n",
              "       [28.73403  ],\n",
              "       [39.72073  ],\n",
              "       [23.836094 ],\n",
              "       [46.209545 ],\n",
              "       [37.27792  ],\n",
              "       [40.316563 ],\n",
              "       [55.232887 ],\n",
              "       [24.20126  ],\n",
              "       [50.160316 ],\n",
              "       [22.045734 ],\n",
              "       [38.553913 ],\n",
              "       [33.418938 ],\n",
              "       [21.80907  ],\n",
              "       [80.19661  ],\n",
              "       [76.41195  ],\n",
              "       [39.936874 ],\n",
              "       [53.441364 ],\n",
              "       [27.958645 ],\n",
              "       [24.267862 ],\n",
              "       [17.4456   ],\n",
              "       [39.522903 ],\n",
              "       [30.132936 ],\n",
              "       [49.505203 ],\n",
              "       [10.425015 ],\n",
              "       [ 7.0646954],\n",
              "       [47.058147 ],\n",
              "       [48.18432  ],\n",
              "       [36.908543 ],\n",
              "       [42.432556 ],\n",
              "       [20.245342 ],\n",
              "       [26.157562 ],\n",
              "       [13.079312 ],\n",
              "       [39.850803 ],\n",
              "       [34.427586 ],\n",
              "       [48.799477 ],\n",
              "       [89.07905  ],\n",
              "       [57.47989  ],\n",
              "       [33.903625 ],\n",
              "       [42.008232 ],\n",
              "       [66.687256 ],\n",
              "       [32.93377  ],\n",
              "       [33.181    ],\n",
              "       [16.616371 ],\n",
              "       [40.76184  ],\n",
              "       [58.464878 ],\n",
              "       [30.609512 ],\n",
              "       [28.489761 ],\n",
              "       [44.868042 ],\n",
              "       [41.190098 ],\n",
              "       [47.228188 ],\n",
              "       [42.99141  ],\n",
              "       [30.023222 ],\n",
              "       [75.08435  ],\n",
              "       [36.397255 ],\n",
              "       [13.879562 ],\n",
              "       [47.8632   ],\n",
              "       [48.619606 ],\n",
              "       [42.834328 ],\n",
              "       [23.765036 ],\n",
              "       [32.76606  ],\n",
              "       [33.582066 ],\n",
              "       [51.557766 ],\n",
              "       [75.35236  ],\n",
              "       [41.105457 ],\n",
              "       [21.313871 ],\n",
              "       [67.878204 ],\n",
              "       [33.866074 ],\n",
              "       [42.474667 ],\n",
              "       [68.49513  ],\n",
              "       [34.572124 ],\n",
              "       [41.91788  ],\n",
              "       [43.043056 ],\n",
              "       [37.774143 ],\n",
              "       [36.0404   ],\n",
              "       [37.89923  ],\n",
              "       [52.763203 ],\n",
              "       [23.061779 ],\n",
              "       [12.034512 ],\n",
              "       [67.63147  ],\n",
              "       [29.298073 ],\n",
              "       [ 7.8109326],\n",
              "       [18.586704 ],\n",
              "       [38.604877 ]], dtype=float32)"
            ]
          },
          "metadata": {
            "tags": []
          },
          "execution_count": 31
        }
      ]
    },
    {
      "cell_type": "code",
      "metadata": {
        "colab": {
          "base_uri": "https://localhost:8080/"
        },
        "id": "dBdthc-vsw4_",
        "outputId": "1821aee7-4c32-471b-9d29-31110302bb39"
      },
      "source": [
        "# actual targets\n",
        "y_test"
      ],
      "execution_count": null,
      "outputs": [
        {
          "output_type": "execute_result",
          "data": {
            "text/plain": [
              "747    26.06\n",
              "718    10.35\n",
              "175    79.30\n",
              "828    74.99\n",
              "713     9.69\n",
              "       ...  \n",
              "156    72.99\n",
              "222    28.63\n",
              "665    11.39\n",
              "210    20.08\n",
              "306    48.28\n",
              "Name: Concrete compressive strength(MPa, megapascals) , Length: 309, dtype: float64"
            ]
          },
          "metadata": {
            "tags": []
          },
          "execution_count": 32
        }
      ]
    },
    {
      "cell_type": "code",
      "metadata": {
        "colab": {
          "base_uri": "https://localhost:8080/",
          "height": 337
        },
        "id": "osFYrcPkrnnE",
        "outputId": "139178ea-5c1c-44ac-e39c-62d98bd5dd1c"
      },
      "source": [
        "plt.figure(figsize=(20,5))\n",
        "plt.subplot(1, 2, 1 )\n",
        "plt.hist(targets)\n",
        "plt.xlabel('original target value')\n",
        "plt.ylabel('count')\n",
        "plt.subplot(1, 2, 2)\n",
        "plt.hist(y_pred)\n",
        "plt.xlabel('aggregated target value')\n",
        "plt.show()"
      ],
      "execution_count": null,
      "outputs": [
        {
          "output_type": "display_data",
          "data": {
            "image/png": "[encoded data removed]",
            "text/plain": [
              "<Figure size 1440x360 with 2 Axes>"
            ]
          },
          "metadata": {
            "tags": []
          }
        }
      ]
    },
    {
      "cell_type": "code",
      "metadata": {
        "id": "6XM8B_6MSZQR"
      },
      "source": [
        ""
      ],
      "execution_count": null,
      "outputs": []
    },
    {
      "cell_type": "code",
      "metadata": {
        "id": "-YIuldnqskJz"
      },
      "source": [
        ""
      ],
      "execution_count": null,
      "outputs": []
    }
  ]
}